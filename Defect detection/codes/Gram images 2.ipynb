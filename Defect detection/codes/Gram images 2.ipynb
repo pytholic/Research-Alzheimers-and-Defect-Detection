{
 "cells": [
  {
   "cell_type": "code",
   "execution_count": 7,
   "metadata": {},
   "outputs": [],
   "source": [
    "import pandas as pd\n",
    "import numpy as np\n",
    "import matplotlib.pyplot as plt\n",
    "from pyts.image import GramianAngularField as GAF\n",
    "#import torch\n",
    "#from fastai.vision import *"
   ]
  },
  {
   "cell_type": "code",
   "execution_count": 10,
   "metadata": {},
   "outputs": [
    {
     "data": {
      "image/png": "[encoded data removed]",
      "text/plain": [
       "<Figure size 432x288 with 1 Axes>"
      ]
     },
     "metadata": {
      "needs_background": "light"
     },
     "output_type": "display_data"
    }
   ],
   "source": [
    "data = pd.read_csv(\"D:/LAB Project Data/1D signal stuff/airforce/Data051116_163928_oven/1D_new/nodefect/point(57,175).csv\")\n",
    "ts = np.asarray(data)\n",
    "\n",
    "#ts = np.reshape(1, -1)\n",
    "plt.plot(ts)\n",
    "plt.show()"
   ]
  },
  {
   "cell_type": "code",
   "execution_count": 11,
   "metadata": {},
   "outputs": [
    {
     "ename": "NameError",
     "evalue": "name 'partial' is not defined",
     "output_type": "error",
     "traceback": [
      "\u001b[1;31m---------------------------------------------------------------------------\u001b[0m",
      "\u001b[1;31mNameError\u001b[0m                                 Traceback (most recent call last)",
      "\u001b[1;32m<ipython-input-11-4ba3d8386fb5>\u001b[0m in \u001b[0;36m<module>\u001b[1;34m\u001b[0m\n\u001b[0;32m     14\u001b[0m     \u001b[1;32mreturn\u001b[0m \u001b[0mencoder\u001b[0m\u001b[1;33m.\u001b[0m\u001b[0mfit_transform\u001b[0m\u001b[1;33m(\u001b[0m\u001b[0mts\u001b[0m\u001b[1;33m)\u001b[0m\u001b[1;33m\u001b[0m\u001b[0m\n\u001b[0;32m     15\u001b[0m \u001b[1;33m\u001b[0m\u001b[0m\n\u001b[1;32m---> 16\u001b[1;33m \u001b[0mgadf\u001b[0m \u001b[1;33m=\u001b[0m \u001b[0mpartial\u001b[0m\u001b[1;33m(\u001b[0m\u001b[0mGADF_encoder\u001b[0m\u001b[1;33m)\u001b[0m\u001b[1;33m\u001b[0m\u001b[0m\n\u001b[0m",
      "\u001b[1;31mNameError\u001b[0m: name 'partial' is not defined"
     ]
    }
   ],
   "source": [
    "\n",
    "def GADF_encoder(ts, size=None, sample_range=None, overlapping=False):\n",
    "    # ts: 2d (1, nsteps) time series\n",
    "    # size: expected output size. The output size will be the min between defined size and ts n steps.\n",
    "    # sample range: leave it to None to avoid a per sample normalization\n",
    "    # overlapping: If True, reduce the size of each time series using PAA with possible overlapping windows\n",
    "    assert ts.ndim == 2, 'ts ndim must be 2!'\n",
    "    if size is None: size = ts.shape[-1]\n",
    "    else: size = min(size, ts.shape[-1])\n",
    "    encoder = GAF(\n",
    "        image_size=size,\n",
    "        sample_range=sample_range,\n",
    "        method='d',\n",
    "        overlapping=overlapping)\n",
    "    return encoder.fit_transform(ts)\n",
    "\n",
    "gadf = partial(GADF_encoder)"
   ]
  },
  {
   "cell_type": "code",
   "execution_count": null,
   "metadata": {},
   "outputs": [],
   "source": [
    "\n",
    "print('class:', y1a)\n",
    "Image(torch.Tensor(gadf(x1a, sample_range=(-1, 1))))"
   ]
  }
 ],
 "metadata": {
  "kernelspec": {
   "display_name": "Python 3",
   "language": "python",
   "name": "python3"
  },
  "language_info": {
   "codemirror_mode": {
    "name": "ipython",
    "version": 3
   },
   "file_extension": ".py",
   "mimetype": "text/x-python",
   "name": "python",
   "nbconvert_exporter": "python",
   "pygments_lexer": "ipython3",
   "version": "3.7.0"
  }
 },
 "nbformat": 4,
 "nbformat_minor": 2
}
