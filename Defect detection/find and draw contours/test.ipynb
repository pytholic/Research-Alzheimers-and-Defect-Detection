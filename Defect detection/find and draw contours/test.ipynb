{
 "cells": [
  {
   "cell_type": "code",
   "execution_count": null,
   "metadata": {},
   "outputs": [],
   "source": [
    "import cv2\n",
    "import numpy as np\n",
    "\n",
    "def viewImage(image):\n",
    "    cv2.namedWindow('Display', cv2.WINDOW_NORMAL)\n",
    "    cv2.imshow('Display', image)\n",
    "    cv2.waitKey(0)\n",
    "    cv2.destroyAllWindows()\n",
    "    \n",
    "image = cv2.imread('D:/LAB Project Data/1D signal/boundary/find and draw contours/circle.png')\n",
    "hsv_img = cv2.cvtColor(image, cv2.COLOR_BGR2HSV)\n",
    "viewImage(hsv_img) ## 1green_low = np.array([45 , 100, 50] )\n",
    "\n",
    "green_low = np.array([45 , 100, 50] )\n",
    "green_high = np.array([75, 255, 255])\n",
    "curr_mask = cv2.inRange(hsv_img, green_low, green_high)\n",
    "hsv_img[curr_mask > 0] = ([75,255,200])\n",
    "viewImage(hsv_img) ## 2\n",
    "\n",
    "## converting the HSV image to Gray inorder to be able to apply \n",
    "## contouring\n",
    "RGB_again = cv2.cvtColor(hsv_img, cv2.COLOR_HSV2RGB)\n",
    "gray = cv2.cvtColor(RGB_again, cv2.COLOR_RGB2GRAY)\n",
    "viewImage(gray) ## 3\n",
    "\n",
    "ret, threshold = cv2.threshold(gray, 90, 255, 0)\n",
    "viewImage(threshold) ## 4\n",
    "\n",
    "contours, hierarchy =  cv2.findContours(threshold,cv2.RETR_TREE,cv2.CHAIN_APPROX_SIMPLE)\n",
    "cv2.drawContours(image, contours, -1, (0, 0, 255), 3)\n",
    "viewImage(image) ## 5"
   ]
  },
  {
   "cell_type": "code",
   "execution_count": null,
   "metadata": {},
   "outputs": [],
   "source": []
  }
 ],
 "metadata": {
  "kernelspec": {
   "display_name": "Python 3.7.4 64-bit",
   "language": "python",
   "name": "python37464bit5cff60c807934af1b0a3a5ee5dfc5154"
  },
  "language_info": {
   "codemirror_mode": {
    "name": "ipython",
    "version": 3
   },
   "file_extension": ".py",
   "mimetype": "text/x-python",
   "name": "python",
   "nbconvert_exporter": "python",
   "pygments_lexer": "ipython3",
   "version": "3.7.4"
  }
 },
 "nbformat": 4,
 "nbformat_minor": 2
}
