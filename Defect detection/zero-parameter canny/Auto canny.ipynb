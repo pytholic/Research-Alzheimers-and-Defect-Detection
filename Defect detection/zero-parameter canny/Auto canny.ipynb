{
 "cells": [
  {
   "cell_type": "code",
   "execution_count": 28,
   "metadata": {},
   "outputs": [],
   "source": [
    "# import the necessary packages\n",
    "import numpy as np\n",
    "import argparse\n",
    "import glob\n",
    "import cv2\n",
    "def auto_canny(image, sigma=0.1):\n",
    "    # compute the median of the single channel pixel intensities\n",
    "    v = np.median(image)\n",
    "    # apply automatic Canny edge detection using the computed median\n",
    "    lower = int(max(0, (1.0 - sigma) * v))\n",
    "    upper = int(min(255, (1.0 + sigma) * v))\n",
    "    edged = cv2.Canny(image, lower, upper)\n",
    "    # return the edged image\n",
    "    return edged\n",
    "\n",
    "'''# construct the argument parse and parse the arguments\n",
    "ap = argparse.ArgumentParser()\n",
    "ap.add_argument(\"-i\", \"--images\", required=True,\n",
    "    help=\"path to input dataset of images\")\n",
    "args = vars(ap.parse_args())\n",
    "# loop over the images'''\n",
    "\n",
    "image_path = \"D:/LAB Project Data/1D signal/boundary/composite patch/zero-parameter canny\"\n",
    "#for images in glob.glob('image_path' + '/*.png'):\n",
    "for images in glob.glob('D:/LAB Project Data/1D signal/boundary/composite patch/zero-parameter canny/*.png'):\n",
    "#for imagePath in glob.glob(args[\"images\"] + \"/*.png\"):\n",
    "    # load the image, convert it to grayscale, and blur it slightly\n",
    "    image = cv2.imread(images)\n",
    "    gray = cv2.cvtColor(image, cv2.COLOR_BGR2GRAY)\n",
    "    blurred = cv2.GaussianBlur(gray, (3, 3), 0)\n",
    "    blurred2 = cv2.GaussianBlur(blurred, (3, 3), 0)\n",
    "    #ksize = (1, 1)\n",
    "    #new_image = cv2.blur(blurred,ksize)\n",
    "    # apply Canny edge detection using a wide threshold, tight\n",
    "    # threshold, and automatically determined threshold\n",
    "    wide = cv2.Canny(blurred2, 10, 200)\n",
    "    tight = cv2.Canny(blurred2, 225, 250)\n",
    "    auto = auto_canny(blurred2)\n",
    "    # show the images\n",
    "    cv2.imshow(\"Original\", image)\n",
    "    cv2.imshow(\"Blurred\", blurred2)\n",
    "    cv2.imshow(\"Edges\", np.hstack([wide, tight, auto]))\n",
    "    cv2.waitKey(0)\n",
    "    cv2.destroyAllWindows()\n",
    "\n"
   ]
  },
  {
   "cell_type": "code",
   "execution_count": null,
   "metadata": {},
   "outputs": [],
   "source": []
  },
  {
   "cell_type": "code",
   "execution_count": null,
   "metadata": {},
   "outputs": [],
   "source": []
  }
 ],
 "metadata": {
  "kernelspec": {
   "display_name": "Python 3.7.4 64-bit",
   "language": "python",
   "name": "python37464bit5cff60c807934af1b0a3a5ee5dfc5154"
  },
  "language_info": {
   "codemirror_mode": {
    "name": "ipython",
    "version": 3
   },
   "file_extension": ".py",
   "mimetype": "text/x-python",
   "name": "python",
   "nbconvert_exporter": "python",
   "pygments_lexer": "ipython3",
   "version": "3.7.4"
  }
 },
 "nbformat": 4,
 "nbformat_minor": 2
}
