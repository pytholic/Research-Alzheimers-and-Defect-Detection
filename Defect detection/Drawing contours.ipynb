{
 "cells": [
  {
   "cell_type": "code",
   "execution_count": 8,
   "metadata": {},
   "outputs": [
    {
     "name": "stdout",
     "output_type": "stream",
     "text": [
      "Number of Contours is: 131\n"
     ]
    }
   ],
   "source": [
    "import cv2\n",
    "# Load an image\n",
    "image = cv2.imread('C:/Users/Trojan/Desktop/composite_patch_natural_defect/defected_area2.png')\n",
    "# Changing the colour-space\n",
    "LUV = cv2.cvtColor(image, cv2.COLOR_BGR2LUV)\n",
    "# Find edges\n",
    "edges = cv2.Canny(LUV, 10, 100)\n",
    "# Find Contours\n",
    "contours, hierarchy = cv2.findContours(edges,cv2.RETR_EXTERNAL, cv2.CHAIN_APPROX_NONE)\n",
    "# Find Number of contours\n",
    "print(\"Number of Contours is: \" + str(len(contours)))\n",
    "# Draw yellow border around two contours\n",
    "cv2.drawContours(image, contours, 0, (0, 230, 255), 6)\n",
    "cv2.drawContours(image, contours, 2, (0, 230, 255), 6)\n",
    "# Show the image with contours\n",
    "cv2.imshow('Contours', image)\n",
    "\n",
    "#waits for user to press any key  \n",
    "#(this is necessary to avoid Python kernel form crashing) \n",
    "cv2.waitKey(0)  \n",
    "  \n",
    "#closing all open windows  \n",
    "cv2.destroyAllWindows()  "
   ]
  },
  {
   "cell_type": "code",
   "execution_count": null,
   "metadata": {},
   "outputs": [],
   "source": []
  }
 ],
 "metadata": {
  "kernelspec": {
   "display_name": "Python 3.7.4 64-bit",
   "language": "python",
   "name": "python37464bit5cff60c807934af1b0a3a5ee5dfc5154"
  },
  "language_info": {
   "codemirror_mode": {
    "name": "ipython",
    "version": 3
   },
   "file_extension": ".py",
   "mimetype": "text/x-python",
   "name": "python",
   "nbconvert_exporter": "python",
   "pygments_lexer": "ipython3",
   "version": "3.7.4"
  }
 },
 "nbformat": 4,
 "nbformat_minor": 2
}
