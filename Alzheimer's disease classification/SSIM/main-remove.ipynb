{
 "cells": [
  {
   "cell_type": "code",
   "execution_count": 1,
   "metadata": {},
   "outputs": [],
   "source": [
    "from skimage.measure import compare_ssim\n",
    "import argparse\n",
    "import imutils\n",
    "import cv2\n",
    "import matplotlib.pyplot as plt\n",
    "import numpy as np\n",
    "import glob\n",
    "import os"
   ]
  },
  {
   "cell_type": "code",
   "execution_count": 2,
   "metadata": {},
   "outputs": [
    {
     "name": "stderr",
     "output_type": "stream",
     "text": [
      "/home/trojan/.local/lib/python3.6/site-packages/ipykernel_launcher.py:11: UserWarning: DEPRECATED: skimage.measure.compare_ssim has been moved to skimage.metrics.structural_similarity. It will be removed from skimage.measure in version 0.18.\n",
      "  # This is added back by InteractiveShellApp.init_path()\n"
     ]
    }
   ],
   "source": [
    "target = r'./target MCI/1.png'\n",
    "imageA = cv2.imread(target, cv2.IMREAD_GRAYSCALE)\n",
    "\n",
    "#Dir = r'/home/trojan/Desktop/dimentia/dataset/data_2categ/data/train/AD/'\n",
    "Dir = r'./MCI/'\n",
    "\n",
    "for image in glob.glob(Dir + '*.png'):\n",
    "    imageB = cv2.imread(image, cv2.IMREAD_GRAYSCALE)\n",
    "    croppedA = imageA[60:190, 80:180]\n",
    "    croppedB = imageB[60:190, 80:180] \n",
    "    (score, diff) = compare_ssim(croppedA, croppedB, full=True)\n",
    "    diff = (diff * 255).astype(\"uint8\")\n",
    "    if score < 0.210: # 0.140\n",
    "        os.remove(image)"
   ]
  },
  {
   "cell_type": "code",
   "execution_count": null,
   "metadata": {},
   "outputs": [],
   "source": [
    "\n",
    "\n",
    "\n"
   ]
  }
 ],
 "metadata": {
  "kernelspec": {
   "display_name": "Python 3",
   "language": "python",
   "name": "python3"
  },
  "language_info": {
   "codemirror_mode": {
    "name": "ipython",
    "version": 3
   },
   "file_extension": ".py",
   "mimetype": "text/x-python",
   "name": "python",
   "nbconvert_exporter": "python",
   "pygments_lexer": "ipython3",
   "version": "3.6.9"
  }
 },
 "nbformat": 4,
 "nbformat_minor": 4
}
