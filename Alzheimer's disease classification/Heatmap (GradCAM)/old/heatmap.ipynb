{
 "cells": [
  {
   "cell_type": "code",
   "execution_count": 34,
   "metadata": {},
   "outputs": [],
   "source": [
    "import tensorflow as tf\n",
    "from tensorflow.keras import backend as K\n",
    "from tensorflow.keras.models import load_model\n",
    "from tensorflow.keras.preprocessing import image\n",
    "from tensorflow.keras.utils import plot_model\n",
    "from tensorflow.keras import Model\n",
    "import numpy as np\n",
    "import matplotlib.pyplot as plt\n",
    "from tensorflow.keras.applications.vgg16 import preprocess_input\n",
    "import cv2\n",
    "\n",
    "config = tf.compat.v1.ConfigProto()\n",
    "config.gpu_options.allow_growth = True\n",
    "session = tf.compat.v1.Session(config=config)\n",
    "\n",
    "tf.compat.v1.disable_eager_execution()"
   ]
  },
  {
   "cell_type": "code",
   "execution_count": 35,
   "metadata": {},
   "outputs": [],
   "source": [
    "def load_model_h5(model_file):\n",
    "    \"\"\"\n",
    "    Load the original keras model file\n",
    "         :param model_file: model file, h5 type\n",
    "         :return: model\n",
    "    \"\"\"\n",
    "    return load_model(model_file)\n",
    "\n",
    "def load_img_preprocess(img_path, target_size):\n",
    "    \"\"\"\n",
    "         Load image and preprocess\n",
    "         :param img_path: image file name\n",
    "                       target_size: the zoom size of the image to be loaded\n",
    "                                                 This is a tuple type\n",
    "         :return: preprocessed image file\n",
    "    \"\"\"\n",
    "    img = image.load_img(img_path, target_size=target_size)\n",
    "    img = image.img_to_array(img) # Convert to array form\n",
    "    img = np.expand_dims(img, axis=0) # Add a one-dimensional batchsize to the picture, directly set it to 1\n",
    "\n",
    "    img = preprocess_input(img) # standardize the image\n",
    "\n",
    "    return img"
   ]
  },
  {
   "cell_type": "code",
   "execution_count": 36,
   "metadata": {},
   "outputs": [],
   "source": [
    "def gradient_compute(model, layername, img):\n",
    "    \"\"\"\n",
    "         Calculate the gradient between the final output of the model and your layer\n",
    "         And average the gradient of each feature map\n",
    "         Multiply it with the output of the convolutional layer\n",
    "         :param model: model\n",
    "         :param layername: The name of the layer you want to visualize heat\n",
    "         :param img: preprocessed image\n",
    "    :return:\n",
    "         The output value of the convolutional layer multiplied by the average gradient\n",
    "    \"\"\"\n",
    "    preds = model.predict(img)\n",
    "    idx = np.argmax(preds[0]) # Return the index index of the maximum probability of the predicted picture\n",
    "\n",
    "    output = model.output[:, idx] # Get the output tensor of our corresponding index\n",
    "    last_layer = model.get_layer(layername)\n",
    "\n",
    "    grads = K.gradients(output, last_layer.output)[0]\n",
    "\n",
    "    pooled_grads = K.mean(grads, axis=(0, 1, 2)) # average each gradient feature map,\n",
    "                                                # Returns a tensor whose size is the channel dimension\n",
    "    iterate = K.function([model.input], [pooled_grads, last_layer.output[0]])\n",
    "\n",
    "    pooled_grads_value, conv_layer_output_value = iterate([img])\n",
    "\n",
    "    for i in range(pooled_grads.shape[0]):\n",
    "        conv_layer_output_value[:, :, i] *= pooled_grads_value[i]\n",
    "\n",
    "    return conv_layer_output_value"
   ]
  },
  {
   "cell_type": "code",
   "execution_count": 37,
   "metadata": {},
   "outputs": [],
   "source": [
    "def plot_heatmap(conv_layer_output_value, img_in_path, img_out_path):\n",
    "    \"\"\"\n",
    "         Draw a heat map\n",
    "         :param conv_layer_output_value: Convolutional layer output value\n",
    "         :param img_in_path: the path of the input image\n",
    "         :param img_out_path: path of output heat map\n",
    "    :return:\n",
    "    \"\"\"\n",
    "    heatmap = np.mean(conv_layer_output_value, axis=-1)\n",
    "    heatmap = np.maximum(heatmap, 0)\n",
    "    heatmap /= np.max(heatmap)\n",
    "\n",
    "    img = cv2.imread(img_in_path)\n",
    "    heatmap = cv2.resize(heatmap, (img.shape[1], img.shape[0]))\n",
    "    heatmap = np.uint8(255 * heatmap)\n",
    "\n",
    "    heatmap = cv2.applyColorMap(heatmap, cv2.COLORMAP_JET)\n",
    "    superimopsed_img = heatmap * 0.4 + img\n",
    "\n",
    "    cv2.imwrite(img_out_path, superimopsed_img)"
   ]
  },
  {
   "cell_type": "code",
   "execution_count": 38,
   "metadata": {},
   "outputs": [
    {
     "name": "stdout",
     "output_type": "stream",
     "text": [
      "WARNING:tensorflow:Error in loading the saved optimizer state. As a result, your model is starting with a freshly initialized optimizer.\n",
      "WARNING:tensorflow:From /home/trojan/.local/lib/python3.6/site-packages/tensorflow/python/keras/engine/training_v1.py:2070: Model.state_updates (from tensorflow.python.keras.engine.training) is deprecated and will be removed in a future version.\n",
      "Instructions for updating:\n",
      "This property should not be used in TensorFlow 2.0, as updates are applied automatically.\n"
     ]
    },
    {
     "name": "stderr",
     "output_type": "stream",
     "text": [
      "/home/trojan/.local/lib/python3.6/site-packages/ipykernel_launcher.py:11: RuntimeWarning: invalid value encountered in true_divide\n",
      "  # This is added back by InteractiveShellApp.init_path()\n"
     ]
    }
   ],
   "source": [
    "img_path = r'./images/0311AD_female.png'\n",
    "layername = r'conv2d_1'\n",
    "\n",
    "img = load_img_preprocess(img_path, (224, 224))\n",
    "model = load_model_h5('MRI_vgg16.h5')\n",
    "\n",
    "conv_value = gradient_compute(model, layername, img)\n",
    "plot_heatmap(conv_value, img_path, './packagetest3.jpg')"
   ]
  },
  {
   "cell_type": "code",
   "execution_count": null,
   "metadata": {},
   "outputs": [],
   "source": []
  },
  {
   "cell_type": "code",
   "execution_count": null,
   "metadata": {},
   "outputs": [],
   "source": []
  }
 ],
 "metadata": {
  "kernelspec": {
   "display_name": "Python 3",
   "language": "python",
   "name": "python3"
  },
  "language_info": {
   "codemirror_mode": {
    "name": "ipython",
    "version": 3
   },
   "file_extension": ".py",
   "mimetype": "text/x-python",
   "name": "python",
   "nbconvert_exporter": "python",
   "pygments_lexer": "ipython3",
   "version": "3.6.9"
  }
 },
 "nbformat": 4,
 "nbformat_minor": 4
}
