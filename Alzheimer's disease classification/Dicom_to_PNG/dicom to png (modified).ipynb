{
 "cells": [
  {
   "cell_type": "code",
   "execution_count": 2,
   "metadata": {},
   "outputs": [],
   "source": [
    "import pydicom as dicom\n",
    "import matplotlib.pyplot as plt\n",
    "from PIL import Image\n",
    "import glob\n",
    "import os\n",
    "import imageio\n",
    "import numpy as np"
   ]
  },
  {
   "cell_type": "code",
   "execution_count": 3,
   "metadata": {},
   "outputs": [],
   "source": [
    "inDir = 'F:/LAB/Dimentia/data new/Dicom train data/MCI dicom data 2/'\n",
    "outDir = 'F:/LAB/Dimentia/data new/train_middle_slices/MCI_male/'"
   ]
  },
  {
   "cell_type": "code",
   "execution_count": 4,
   "metadata": {},
   "outputs": [
    {
     "name": "stdout",
     "output_type": "stream",
     "text": [
      "['S11570', 'S119099', 'S126395', 'S141885', 'S144831', 'S156329', 'S15657', 'S168348', 'S185378', 'S186904', 'S193975', 'S19911', 'S206862', 'S211267', 'S228091', 'S24245', 'S25146', 'S252776', 'S27330', 'S29604', 'S30698', 'S33672', 'S42308', 'S42990', 'S44170', 'S45868', 'S47597', 'S50864', 'S56215', 'S62683', 'S64191', 'S65837', 'S68395', 'S73354', 'S77165', 'S80279', 'S83050', 'S83272', 'S84610', 'S96161', 'S97232']\n",
      "41\n"
     ]
    }
   ],
   "source": [
    "folders = os.listdir(inDir)\n",
    "print(folders)\n",
    "print(len(folders))"
   ]
  },
  {
   "cell_type": "code",
   "execution_count": 5,
   "metadata": {},
   "outputs": [
    {
     "name": "stdout",
     "output_type": "stream",
     "text": [
      "['ADNI_021_S_0178_MR_Axial_PD_T2_FSE__br_20060210134519503_10_S11570_I10997.dcm', 'ADNI_021_S_0178_MR_Axial_PD_T2_FSE__br_20060210134521616_12_S11570_I10997.dcm', 'ADNI_021_S_0178_MR_Axial_PD_T2_FSE__br_20060210134523739_14_S11570_I10997.dcm', 'ADNI_021_S_0178_MR_Axial_PD_T2_FSE__br_20060210134525842_16_S11570_I10997.dcm', 'ADNI_021_S_0178_MR_Axial_PD_T2_FSE__br_20060210134529317_18_S11570_I10997.dcm', 'ADNI_021_S_0178_MR_Axial_PD_T2_FSE__br_20060210134531410_2_S11570_I10997.dcm', 'ADNI_021_S_0178_MR_Axial_PD_T2_FSE__br_20060210134532462_20_S11570_I10997.dcm', 'ADNI_021_S_0178_MR_Axial_PD_T2_FSE__br_20060210134534555_22_S11570_I10997.dcm', 'ADNI_021_S_0178_MR_Axial_PD_T2_FSE__br_20060210134536688_24_S11570_I10997.dcm', 'ADNI_021_S_0178_MR_Axial_PD_T2_FSE__br_20060210134540143_26_S11570_I10997.dcm', 'ADNI_021_S_0178_MR_Axial_PD_T2_FSE__br_20060210134542246_28_S11570_I10997.dcm', 'ADNI_021_S_0178_MR_Axial_PD_T2_FSE__br_20060210134545481_30_S11570_I10997.dcm', 'ADNI_021_S_0178_MR_Axial_PD_T2_FSE__br_20060210134547604_32_S11570_I10997.dcm', 'ADNI_021_S_0178_MR_Axial_PD_T2_FSE__br_20060210134549767_34_S11570_I10997.dcm', 'ADNI_021_S_0178_MR_Axial_PD_T2_FSE__br_20060210134553252_36_S11570_I10997.dcm', 'ADNI_021_S_0178_MR_Axial_PD_T2_FSE__br_20060210134555435_38_S11570_I10997.dcm', 'ADNI_021_S_0178_MR_Axial_PD_T2_FSE__br_20060210134557618_4_S11570_I10997.dcm', 'ADNI_021_S_0178_MR_Axial_PD_T2_FSE__br_20060210134558920_40_S11570_I10997.dcm', 'ADNI_021_S_0178_MR_Axial_PD_T2_FSE__br_20060210134601053_42_S11570_I10997.dcm', 'ADNI_021_S_0178_MR_Axial_PD_T2_FSE__br_20060210134604428_44_S11570_I10997.dcm', 'ADNI_021_S_0178_MR_Axial_PD_T2_FSE__br_20060210134606571_46_S11570_I10997.dcm', 'ADNI_021_S_0178_MR_Axial_PD_T2_FSE__br_20060210134608704_48_S11570_I10997.dcm', 'ADNI_021_S_0178_MR_Axial_PD_T2_FSE__br_20060210134611889_50_S11570_I10997.dcm', 'ADNI_021_S_0178_MR_Axial_PD_T2_FSE__br_20060210134614022_52_S11570_I10997.dcm', 'ADNI_021_S_0178_MR_Axial_PD_T2_FSE__br_20060210134617477_54_S11570_I10997.dcm', 'ADNI_021_S_0178_MR_Axial_PD_T2_FSE__br_20060210134619610_56_S11570_I10997.dcm', 'ADNI_021_S_0178_MR_Axial_PD_T2_FSE__br_20060210134621753_58_S11570_I10997.dcm', 'ADNI_021_S_0178_MR_Axial_PD_T2_FSE__br_20060210134623876_6_S11570_I10997.dcm', 'ADNI_021_S_0178_MR_Axial_PD_T2_FSE__br_20060210134624957_60_S11570_I10997.dcm', 'ADNI_021_S_0178_MR_Axial_PD_T2_FSE__br_20060210134628482_62_S11570_I10997.dcm', 'ADNI_021_S_0178_MR_Axial_PD_T2_FSE__br_20060210134630645_64_S11570_I10997.dcm', 'ADNI_021_S_0178_MR_Axial_PD_T2_FSE__br_20060210134632809_66_S11570_I10997.dcm', 'ADNI_021_S_0178_MR_Axial_PD_T2_FSE__br_20060210134634952_68_S11570_I10997.dcm', 'ADNI_021_S_0178_MR_Axial_PD_T2_FSE__br_20060210134639729_70_S11570_I10997.dcm', 'ADNI_021_S_0178_MR_Axial_PD_T2_FSE__br_20060210134641882_72_S11570_I10997.dcm', 'ADNI_021_S_0178_MR_Axial_PD_T2_FSE__br_20060210134644035_74_S11570_I10997.dcm', 'ADNI_021_S_0178_MR_Axial_PD_T2_FSE__br_20060210134646198_76_S11570_I10997.dcm', 'ADNI_021_S_0178_MR_Axial_PD_T2_FSE__br_20060210134648341_78_S11570_I10997.dcm', 'ADNI_021_S_0178_MR_Axial_PD_T2_FSE__br_20060210134651726_8_S11570_I10997.dcm', 'ADNI_021_S_0178_MR_Axial_PD_T2_FSE__br_20060210134652797_80_S11570_I10997.dcm', 'ADNI_021_S_0178_MR_Axial_PD_T2_FSE__br_20060210134654910_82_S11570_I10997.dcm', 'ADNI_021_S_0178_MR_Axial_PD_T2_FSE__br_20060210134657053_84_S11570_I10997.dcm', 'ADNI_021_S_0178_MR_Axial_PD_T2_FSE__br_20060210134659217_86_S11570_I10997.dcm', 'ADNI_021_S_0178_MR_Axial_PD_T2_FSE__br_20060210134702662_88_S11570_I10997.dcm', 'ADNI_021_S_0178_MR_Axial_PD_T2_FSE__br_20060210134705816_90_S11570_I10997.dcm', 'ADNI_021_S_0178_MR_Axial_PD_T2_FSE__br_20060210134707939_92_S11570_I10997.dcm', 'ADNI_021_S_0178_MR_Axial_PD_T2_FSE__br_20060210134710072_94_S11570_I10997.dcm', 'ADNI_021_S_0178_MR_Axial_PD_T2_FSE__br_20060210134713507_96_S11570_I10997.dcm']\n"
     ]
    }
   ],
   "source": [
    "folders = os.listdir(inDir)\n",
    "for folder in folders:\n",
    "    PATH = os.path.join(inDir, folder)\n",
    "    images = [os.path.basename(x) for x in glob.glob(PATH + '/*.dcm')]\n",
    "    print(images)\n",
    "    break\n",
    "    for f in images[15:35]:  \n",
    "        ds = dicom.read_file(PATH + '/' + f) # read dicom image\n",
    "        img = ds.pixel_array # get image array\n",
    "        img = np.flip(img, axis=0)\n",
    "        imageio.imwrite(outDir + f.replace('.dcm','.png'), img)"
   ]
  },
  {
   "cell_type": "code",
   "execution_count": null,
   "metadata": {},
   "outputs": [],
   "source": []
  }
 ],
 "metadata": {
  "kernelspec": {
   "display_name": "Python 3",
   "language": "python",
   "name": "python3"
  },
  "language_info": {
   "codemirror_mode": {
    "name": "ipython",
    "version": 3
   },
   "file_extension": ".py",
   "mimetype": "text/x-python",
   "name": "python",
   "nbconvert_exporter": "python",
   "pygments_lexer": "ipython3",
   "version": "3.7.4"
  }
 },
 "nbformat": 4,
 "nbformat_minor": 4
}
