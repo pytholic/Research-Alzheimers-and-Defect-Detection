{
 "cells": [
  {
   "cell_type": "code",
   "execution_count": 1,
   "metadata": {},
   "outputs": [],
   "source": [
    "import tensorflow as tf\n",
    "from tensorflow.keras.layers import *\n",
    "from tensorflow.keras.models import *\n",
    "from tensorflow.keras import layers\n",
    "from tqdm.notebook import tqdm\n",
    "import matplotlib.pyplot as plt\n",
    "import numpy as np\n",
    "import losses\n",
    "import pickle\n",
    "from sklearn.model_selection import train_test_split\n",
    "import time\n",
    "from tensorflow.keras.models import Sequential, load_model\n",
    "from tensorflow.keras.layers import Dense, Dropout, Activation, Flatten\n",
    "from tensorflow.keras.layers import Conv2D, MaxPooling2D, GlobalAveragePooling2D\n",
    "from tensorflow.keras.callbacks import ModelCheckpoint, LearningRateScheduler"
   ]
  },
  {
   "cell_type": "code",
   "execution_count": 2,
   "metadata": {},
   "outputs": [],
   "source": [
    "dataDir = r\"/home/trojan/Desktop/dimentia/data_10slices/dataset with PGGAN/train\"\n",
    "\n",
    "IMG_SHAPE = 256\n",
    "batch_size = 16\n",
    "dropout_rate = 0.2\n",
    "num_epochs = 50"
   ]
  },
  {
   "cell_type": "code",
   "execution_count": 3,
   "metadata": {},
   "outputs": [],
   "source": [
    "pickle_in = open(\"/home/trojan/Desktop/dimentia/CNN_simple/kfold/X.pickle\",\"rb\")\n",
    "X = pickle.load(pickle_in)\n",
    "\n",
    "pickle_in = open(\"/home/trojan/Desktop/dimentia/CNN_simple/kfold/y.pickle\",\"rb\")\n",
    "y = pickle.load(pickle_in)"
   ]
  },
  {
   "cell_type": "code",
   "execution_count": 4,
   "metadata": {},
   "outputs": [
    {
     "name": "stdout",
     "output_type": "stream",
     "text": [
      "(19677, 256, 256, 3)\n",
      "(19677,)\n"
     ]
    }
   ],
   "source": [
    "X = np.array(X)\n",
    "y = np.array(y)\n",
    "print(X.shape)\n",
    "print(y.shape)"
   ]
  },
  {
   "cell_type": "code",
   "execution_count": 5,
   "metadata": {},
   "outputs": [],
   "source": [
    "x_train, x_val, y_train, y_val = train_test_split(X, y,\n",
    "                                                  shuffle=True, stratify=y, \n",
    "                                                  test_size=0.2, random_state=42)"
   ]
  },
  {
   "cell_type": "code",
   "execution_count": 6,
   "metadata": {},
   "outputs": [
    {
     "name": "stdout",
     "output_type": "stream",
     "text": [
      "x_train shape: (15741, 256, 256, 3)\n",
      "15741 train samples\n",
      "3936 validation samples\n",
      "y_train shape: (15741,)\n"
     ]
    }
   ],
   "source": [
    "print('x_train shape:', x_train.shape)\n",
    "print(x_train.shape[0], 'train samples')\n",
    "print(x_val.shape[0], 'validation samples')\n",
    "print('y_train shape:', y_train.shape)"
   ]
  },
  {
   "cell_type": "code",
   "execution_count": 7,
   "metadata": {},
   "outputs": [
    {
     "name": "stdout",
     "output_type": "stream",
     "text": [
      "0 1\n"
     ]
    }
   ],
   "source": [
    "#print(x_train[1].dtype)\n",
    "print(np.min(x_train[1]), np.max(x_train[1]))"
   ]
  },
  {
   "cell_type": "code",
   "execution_count": 8,
   "metadata": {},
   "outputs": [],
   "source": [
    "from sklearn import preprocessing\n",
    "le = preprocessing.LabelEncoder()\n",
    "y_train_enc = le.fit_transform(y_train)\n",
    "y_val_enc = le.transform(y_val)"
   ]
  },
  {
   "cell_type": "code",
   "execution_count": 9,
   "metadata": {},
   "outputs": [],
   "source": [
    "train_ds=tf.data.Dataset.from_tensor_slices((x_train,y_train_enc))\n",
    "validation_ds=tf.data.Dataset.from_tensor_slices((x_val,y_val_enc))"
   ]
  },
  {
   "cell_type": "code",
   "execution_count": 10,
   "metadata": {},
   "outputs": [],
   "source": [
    "IMG_SHAPE = 256\n",
    "BS = 16\n",
    "AUTO = tf.data.experimental.AUTOTUNE\n",
    "train_ds = (\n",
    "    train_ds\n",
    "    .shuffle(100)\n",
    "    .batch(BS)\n",
    "    .prefetch(AUTO)\n",
    ")\n",
    "validation_ds = (\n",
    "    validation_ds\n",
    "    .shuffle(100)\n",
    "    .batch(BS)\n",
    "    .prefetch(AUTO)\n",
    ")"
   ]
  },
  {
   "cell_type": "code",
   "execution_count": 11,
   "metadata": {},
   "outputs": [],
   "source": [
    "# Model Bulding\n",
    "\n",
    "# Reference: https://github.com/wangz10/contrastive_loss/blob/master/model.py\n",
    "class UnitNormLayer(tf.keras.layers.Layer):\n",
    "    '''Normalize vectors (euclidean norm) in batch to unit hypersphere.\n",
    "    '''\n",
    "    def __init__(self, **kwargs):\n",
    "        super(UnitNormLayer, self).__init__()\n",
    "\n",
    "    def call(self, input_tensor):\n",
    "        norm = tf.norm(input_tensor, axis=1)\n",
    "        return input_tensor / tf.reshape(norm, [-1, 1])\n",
    "\n"
   ]
  },
  {
   "cell_type": "code",
   "execution_count": 12,
   "metadata": {},
   "outputs": [],
   "source": [
    "initializer = 'he_normal'\n",
    "# Encoder Network\n",
    "def encoder_net():\n",
    "    inputs = Input((IMG_SHAPE, IMG_SHAPE, 3))\n",
    "    normalization_layer = UnitNormLayer()\n",
    "\n",
    "    encoder = tf.keras.applications.DenseNet121(weights=None, include_top=False)\n",
    "    #encoder = tf.keras.applications.ResNet50V2(weights=None, include_top=False)\n",
    "    #encoder = tf.keras.applications.ResNet50(weights=None, include_top=False)\n",
    "    #encoder = Sequential()\n",
    "\n",
    "    '''encoder.add(Conv2D(32, (5, 5), padding='same', input_shape = (256, 256, 3), kernel_initializer=initializer))\n",
    "    #model.add(Dropout(0.2))\n",
    "    encoder.add(BatchNormalization())\n",
    "    encoder.add(Activation('relu'))\n",
    "    encoder.add(MaxPooling2D(pool_size=(2, 2)))\n",
    "    \n",
    "    encoder.add(Conv2D(64, (5, 5), padding='same', kernel_initializer=initializer))\n",
    "    #model.add(Dropout(0.2))\n",
    "    encoder.add(BatchNormalization())\n",
    "    encoder.add(Activation('relu'))\n",
    "    encoder.add(MaxPooling2D(pool_size=(2, 2)))\n",
    "\n",
    "    encoder.add(Conv2D(128, (3, 3), padding='same', kernel_initializer=initializer))\n",
    "    #model.add(Dropout(0.2))\n",
    "    encoder.add(BatchNormalization())\n",
    "    encoder.add(Activation('relu'))\n",
    "    encoder.add(MaxPooling2D(pool_size=(2, 2)))\n",
    "\n",
    "    encoder.add(Conv2D(256, (3, 3), padding='same', kernel_initializer=initializer))\n",
    "    #model.add(Dropout(0.2))\n",
    "    encoder.add(BatchNormalization())\n",
    "    encoder.add(Activation('relu'))\n",
    "    encoder.add(MaxPooling2D(pool_size=(2, 2)))\n",
    "\n",
    "    encoder.add(Conv2D(512, (3, 3), padding='same', kernel_initializer=initializer))\n",
    "    #model.add(Dropout(0.2))\n",
    "    encoder.add(BatchNormalization())\n",
    "    encoder.add(Activation('relu'))\n",
    "    encoder.add(MaxPooling2D(pool_size=(2, 2)))'''\n",
    "\n",
    "    encoder.trainable = True\n",
    "\n",
    "    embeddings = encoder(inputs, training=True)\n",
    "    embeddings = GlobalAveragePooling2D()(embeddings)\n",
    "    norm_embeddings = normalization_layer(embeddings)\n",
    "\n",
    "    encoder_network = Model(inputs, norm_embeddings)\n",
    "\n",
    "    return encoder_network\n",
    "\n",
    "# Projector Network\n",
    "def projector_net():\n",
    "    projector = tf.keras.models.Sequential([\n",
    "        Dense(256, activation=\"relu\"),\n",
    "        UnitNormLayer()\n",
    "])\n",
    "\n",
    "    return projector"
   ]
  },
  {
   "cell_type": "code",
   "execution_count": 13,
   "metadata": {},
   "outputs": [],
   "source": [
    "encoder_r = encoder_net()\n",
    "projector_z = projector_net()"
   ]
  },
  {
   "cell_type": "code",
   "execution_count": 12,
   "metadata": {},
   "outputs": [],
   "source": [
    "def lr_schedule(epoch):\n",
    "\n",
    "    lr = 1e-4 \n",
    "    if epoch > 180:\n",
    "        lr *= 0.5e-3\n",
    "    elif epoch > 160:\n",
    "        lr *= 1e-3\n",
    "    elif epoch > 40: # 120\n",
    "        lr *= 1e-2\n",
    "    elif epoch > 20: #80\n",
    "        lr *= 1e-1\n",
    "    print('Learning rate: ', lr)\n",
    "    return lr"
   ]
  },
  {
   "cell_type": "code",
   "execution_count": 15,
   "metadata": {},
   "outputs": [
    {
     "name": "stdout",
     "output_type": "stream",
     "text": [
      "Learning rate:  0.0001\n"
     ]
    }
   ],
   "source": [
    "#Training encoder and the projector\n",
    "\n",
    "optimizer = tf.keras.optimizers.Adam(lr=lr_schedule(0))\n",
    "\n",
    "encoder_r = encoder_net()\n",
    "projector_z = projector_net()\n",
    "\n",
    "@tf.function\n",
    "def train_step(images, labels):\n",
    "    with tf.GradientTape() as tape:\n",
    "        r = encoder_r(images, training=True)\n",
    "        z = projector_z(r, training=True)\n",
    "        loss = losses.max_margin_contrastive_loss(z, labels)\n",
    "\n",
    "    gradients = tape.gradient(loss, \n",
    "        encoder_r.trainable_variables + projector_z.trainable_variables)\n",
    "    optimizer.apply_gradients(zip(gradients, \n",
    "        encoder_r.trainable_variables + projector_z.trainable_variables))\n",
    "\n",
    "    return loss"
   ]
  },
  {
   "cell_type": "code",
   "execution_count": 16,
   "metadata": {},
   "outputs": [
    {
     "name": "stdout",
     "output_type": "stream",
     "text": [
      "Epoch: 0 Loss: 0.230\n",
      "Epoch Time: 374.61992859840393\n",
      "Total Time: 374.61992859840393\n",
      "Epoch: 1 Loss: 0.180\n",
      "Epoch Time: 158.02855396270752\n",
      "Total Time: 532.6484825611115\n",
      "Epoch: 2 Loss: 0.134\n",
      "Epoch Time: 130.09778022766113\n",
      "Total Time: 662.7462627887726\n",
      "Epoch: 3 Loss: 0.091\n",
      "Epoch Time: 130.66802167892456\n",
      "Total Time: 793.4142844676971\n",
      "Epoch: 4 Loss: 0.067\n",
      "Epoch Time: 130.6439197063446\n",
      "Total Time: 924.0582041740417\n",
      "Epoch: 5 Loss: 0.049\n",
      "Epoch Time: 130.69461274147034\n",
      "Total Time: 1054.752816915512\n",
      "Epoch: 6 Loss: 0.036\n",
      "Epoch Time: 130.52919745445251\n",
      "Total Time: 1185.2820143699646\n",
      "Epoch: 7 Loss: 0.033\n",
      "Epoch Time: 130.36196613311768\n",
      "Total Time: 1315.6439805030823\n",
      "Epoch: 8 Loss: 0.029\n",
      "Epoch Time: 130.27450108528137\n",
      "Total Time: 1445.9184815883636\n",
      "Epoch: 9 Loss: 0.023\n",
      "Epoch Time: 130.1490342617035\n",
      "Total Time: 1576.0675158500671\n",
      "Epoch: 10 Loss: 0.021\n",
      "Epoch Time: 130.41719722747803\n",
      "Total Time: 1706.4847130775452\n",
      "Epoch: 11 Loss: 0.016\n",
      "Epoch Time: 130.17675232887268\n",
      "Total Time: 1836.6614654064178\n",
      "Epoch: 12 Loss: 0.017\n",
      "Epoch Time: 130.5627851486206\n",
      "Total Time: 1967.2242505550385\n",
      "Epoch: 13 Loss: 0.018\n",
      "Epoch Time: 130.59889841079712\n",
      "Total Time: 2097.8231489658356\n",
      "Epoch: 14 Loss: 0.016\n",
      "Epoch Time: 130.63766431808472\n",
      "Total Time: 2228.4608132839203\n",
      "Epoch: 15 Loss: 0.014\n",
      "Epoch Time: 130.5952434539795\n",
      "Total Time: 2359.0560567379\n",
      "Epoch: 16 Loss: 0.013\n",
      "Epoch Time: 130.63227677345276\n",
      "Total Time: 2489.6883335113525\n",
      "Epoch: 17 Loss: 0.011\n",
      "Epoch Time: 130.40927910804749\n",
      "Total Time: 2620.0976126194\n",
      "Epoch: 18 Loss: 0.012\n",
      "Epoch Time: 130.30745220184326\n",
      "Total Time: 2750.4050648212433\n",
      "Epoch: 19 Loss: 0.011\n",
      "Epoch Time: 130.02714228630066\n",
      "Total Time: 2880.432207107544\n",
      "Epoch: 20 Loss: 0.010\n",
      "Epoch Time: 130.38138842582703\n",
      "Total Time: 3010.813595533371\n",
      "Epoch: 21 Loss: 0.012\n",
      "Epoch Time: 130.37186288833618\n",
      "Total Time: 3141.185458421707\n",
      "Epoch: 22 Loss: 0.010\n",
      "Epoch Time: 130.28179287910461\n",
      "Total Time: 3271.4672513008118\n",
      "Epoch: 23 Loss: 0.011\n",
      "Epoch Time: 130.66154503822327\n",
      "Total Time: 3402.128796339035\n",
      "Epoch: 24 Loss: 0.008\n",
      "Epoch Time: 130.54457211494446\n",
      "Total Time: 3532.6733684539795\n",
      "Epoch: 25 Loss: 0.010\n",
      "Epoch Time: 130.59482097625732\n",
      "Total Time: 3663.268189430237\n",
      "Epoch: 26 Loss: 0.009\n",
      "Epoch Time: 133.801527261734\n",
      "Total Time: 3797.069716691971\n",
      "Epoch: 27 Loss: 0.008\n",
      "Epoch Time: 130.4771225452423\n",
      "Total Time: 3927.546839237213\n",
      "Epoch: 28 Loss: 0.007\n",
      "Epoch Time: 130.5285542011261\n",
      "Total Time: 4058.0753934383392\n",
      "Epoch: 29 Loss: 0.009\n",
      "Epoch Time: 130.37085223197937\n",
      "Total Time: 4188.446245670319\n",
      "Epoch: 30 Loss: 0.009\n",
      "Epoch Time: 130.09184312820435\n",
      "Total Time: 4318.538088798523\n",
      "Epoch: 31 Loss: 0.007\n",
      "Epoch Time: 130.22350668907166\n",
      "Total Time: 4448.761595487595\n",
      "Epoch: 32 Loss: 0.006\n",
      "Epoch Time: 130.2936656475067\n",
      "Total Time: 4579.055261135101\n",
      "Epoch: 33 Loss: 0.007\n",
      "Epoch Time: 130.05478930473328\n",
      "Total Time: 4709.110050439835\n",
      "Epoch: 34 Loss: 0.006\n",
      "Epoch Time: 130.2513861656189\n",
      "Total Time: 4839.3614366054535\n",
      "Epoch: 35 Loss: 0.006\n",
      "Epoch Time: 130.5663583278656\n",
      "Total Time: 4969.927794933319\n",
      "Epoch: 36 Loss: 0.007\n",
      "Epoch Time: 130.5177321434021\n",
      "Total Time: 5100.445527076721\n",
      "Epoch: 37 Loss: 0.006\n",
      "Epoch Time: 130.2883803844452\n",
      "Total Time: 5230.733907461166\n",
      "Epoch: 38 Loss: 0.007\n",
      "Epoch Time: 130.4371099472046\n",
      "Total Time: 5361.171017408371\n",
      "Epoch: 39 Loss: 0.005\n",
      "Epoch Time: 130.17745685577393\n",
      "Total Time: 5491.348474264145\n",
      "Epoch: 40 Loss: 0.004\n",
      "Epoch Time: 130.24236965179443\n",
      "Total Time: 5621.590843915939\n",
      "Epoch: 41 Loss: 0.007\n",
      "Epoch Time: 130.071515083313\n",
      "Total Time: 5751.662358999252\n",
      "Epoch: 42 Loss: 0.005\n",
      "Epoch Time: 130.36050128936768\n",
      "Total Time: 5882.02286028862\n",
      "Epoch: 43 Loss: 0.007\n",
      "Epoch Time: 130.35869359970093\n",
      "Total Time: 6012.381553888321\n",
      "Epoch: 44 Loss: 0.006\n",
      "Epoch Time: 129.88425707817078\n",
      "Total Time: 6142.265810966492\n",
      "Epoch: 45 Loss: 0.006\n",
      "Epoch Time: 129.9801607131958\n",
      "Total Time: 6272.2459716796875\n",
      "Epoch: 46 Loss: 0.007\n",
      "Epoch Time: 130.5570387840271\n",
      "Total Time: 6402.803010463715\n",
      "Epoch: 47 Loss: 0.004\n",
      "Epoch Time: 130.7262785434723\n",
      "Total Time: 6533.529289007187\n",
      "Epoch: 48 Loss: 0.005\n",
      "Epoch Time: 130.6392800807953\n",
      "Total Time: 6664.168569087982\n",
      "Epoch: 49 Loss: 0.005\n",
      "Epoch Time: 130.5515353679657\n",
      "Total Time: 6794.720104455948\n"
     ]
    },
    {
     "name": "stderr",
     "output_type": "stream",
     "text": [
      "findfont: Font family ['xkcd', 'xkcd Script', 'Humor Sans', 'Comic Neue', 'Comic Sans MS'] not found. Falling back to DejaVu Sans.\n",
      "findfont: Font family ['xkcd', 'xkcd Script', 'Humor Sans', 'Comic Neue', 'Comic Sans MS'] not found. Falling back to DejaVu Sans.\n"
     ]
    },
    {
     "data": {
      "image/png": "[encoded data removed]",
      "text/plain": [
       "<Figure size 432x288 with 1 Axes>"
      ]
     },
     "metadata": {},
     "output_type": "display_data"
    }
   ],
   "source": [
    "EPOCHS = num_epochs\n",
    "train_loss_results = []\n",
    "\n",
    "epoch_time = 0\n",
    "total_time = 0\n",
    "for epoch in range(EPOCHS):\n",
    "    start = time.time()\n",
    "    epoch_loss_avg = tf.keras.metrics.Mean()\n",
    "\n",
    "    for (images, labels) in train_ds:\n",
    "        loss = train_step(images, labels)\n",
    "        epoch_loss_avg.update_state(loss) \n",
    "\n",
    "    train_loss_results.append(epoch_loss_avg.result())\n",
    "    \n",
    "    print(\"Epoch: {} Loss: {:.3f}\".format(epoch, epoch_loss_avg.result()))\n",
    "\n",
    "    end = time.time()\n",
    "    epoch_time = end - start\n",
    "    total_time += epoch_time\n",
    "    \n",
    "    print(f\"Epoch Time: {epoch_time}\")\n",
    "    print(f\"Total Time: {total_time}\")\n",
    "    \n",
    "with plt.xkcd():\n",
    "    plt.plot(train_loss_results)\n",
    "    plt.title(\"Supervised Contrastive Loss\")\n",
    "    plt.show()"
   ]
  },
  {
   "cell_type": "code",
   "execution_count": 17,
   "metadata": {},
   "outputs": [],
   "source": [
    "encoder_r.save('encoder_model.h5')\n",
    "projector_z.save('projection_model.h5')"
   ]
  },
  {
   "cell_type": "code",
   "execution_count": 13,
   "metadata": {},
   "outputs": [],
   "source": [
    "#encoder_r = load_model('encoder_model.h5', custom_objects={'UnitNormLayer': UnitNormLayer}, compile=False)"
   ]
  },
  {
   "cell_type": "code",
   "execution_count": 14,
   "metadata": {},
   "outputs": [],
   "source": [
    "def supervised_model():\n",
    "    inputs = Input((IMG_SHAPE, IMG_SHAPE, 3))\n",
    "    encoder_r.trainable = False\n",
    "\n",
    "    r = encoder_r(inputs, training=False)\n",
    "    r = Dense(1024, activation='relu')(r)\n",
    "    r = Dropout(0.3)(r)\n",
    "    r = Dense(512, activation='relu')(r)\n",
    "    r = Dropout(0.3)(r)\n",
    "\n",
    "    outputs = Dense(2)(r)\n",
    "\n",
    "    supervised_model = Model(inputs, outputs)\n",
    "  \n",
    "    return supervised_model"
   ]
  },
  {
   "cell_type": "code",
   "execution_count": null,
   "metadata": {},
   "outputs": [
    {
     "name": "stdout",
     "output_type": "stream",
     "text": [
      "Learning rate:  0.0001\n",
      "Learning rate:  0.0001\n",
      "Epoch 1/20\n",
      "984/984 [==============================] - ETA: 0s - loss: 0.0239 - sparse_categorical_accuracy: 0.9975\n",
      "Epoch 00001: val_sparse_categorical_accuracy improved from -inf to 0.97942, saving model to best_model_contrastive.h5\n",
      "984/984 [==============================] - 49s 50ms/step - loss: 0.0239 - sparse_categorical_accuracy: 0.9975 - val_loss: 0.0610 - val_sparse_categorical_accuracy: 0.9794\n",
      "Learning rate:  0.0001\n",
      "Epoch 2/20\n",
      "984/984 [==============================] - ETA: 0s - loss: 0.0038 - sparse_categorical_accuracy: 0.9989\n",
      "Epoch 00002: val_sparse_categorical_accuracy improved from 0.97942 to 0.98069, saving model to best_model_contrastive.h5\n",
      "984/984 [==============================] - 48s 49ms/step - loss: 0.0038 - sparse_categorical_accuracy: 0.9989 - val_loss: 0.0647 - val_sparse_categorical_accuracy: 0.9807\n",
      "Learning rate:  0.0001\n",
      "Epoch 3/20\n",
      "983/984 [============================>.] - ETA: 0s - loss: 0.0036 - sparse_categorical_accuracy: 0.9987\n",
      "Epoch 00003: val_sparse_categorical_accuracy did not improve from 0.98069\n",
      "984/984 [==============================] - 47s 47ms/step - loss: 0.0036 - sparse_categorical_accuracy: 0.9987 - val_loss: 0.0675 - val_sparse_categorical_accuracy: 0.9804\n",
      "Learning rate:  0.0001\n",
      "Epoch 4/20\n",
      "168/984 [====>.........................] - ETA: 31s - loss: 0.0068 - sparse_categorical_accuracy: 0.9981"
     ]
    }
   ],
   "source": [
    "supervised_classifier = supervised_model()\n",
    "\n",
    "supervised_classifier.compile(optimizer=tf.keras.optimizers.Adam(lr=lr_schedule(0)),\n",
    "    loss=tf.keras.losses.SparseCategoricalCrossentropy(from_logits=True),\n",
    "    metrics=[tf.keras.metrics.SparseCategoricalAccuracy()])\n",
    "\n",
    "\n",
    "checkpoint = ModelCheckpoint('best_model_contrastive.h5', monitor='val_sparse_categorical_accuracy', mode='max', verbose=1, save_best_only=True)\n",
    "#es = tf.keras.callbacks.EarlyStopping(monitor=\"val_loss\", patience=5,\n",
    "    #restore_best_weights=True, verbose=2)\n",
    "\n",
    "lr_scheduler = LearningRateScheduler(lr_schedule)\n",
    "    \n",
    "supervised_classifier.fit(train_ds,\n",
    "    validation_data=validation_ds,\n",
    "    epochs=num_epochs,\n",
    "    callbacks=[checkpoint, lr_scheduler])"
   ]
  },
  {
   "cell_type": "code",
   "execution_count": null,
   "metadata": {},
   "outputs": [],
   "source": []
  },
  {
   "cell_type": "code",
   "execution_count": null,
   "metadata": {},
   "outputs": [],
   "source": []
  },
  {
   "cell_type": "code",
   "execution_count": null,
   "metadata": {},
   "outputs": [],
   "source": []
  }
 ],
 "metadata": {
  "kernelspec": {
   "display_name": "Python 3",
   "language": "python",
   "name": "python3"
  },
  "language_info": {
   "codemirror_mode": {
    "name": "ipython",
    "version": 3
   },
   "file_extension": ".py",
   "mimetype": "text/x-python",
   "name": "python",
   "nbconvert_exporter": "python",
   "pygments_lexer": "ipython3",
   "version": "3.6.9"
  }
 },
 "nbformat": 4,
 "nbformat_minor": 4
}
